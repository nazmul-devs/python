{
 "cells": [
  {
   "cell_type": "code",
   "execution_count": 3,
   "metadata": {},
   "outputs": [
    {
     "name": "stdout",
     "output_type": "stream",
     "text": [
      "100\n",
      "sub result: 10\n"
     ]
    }
   ],
   "source": [
    "# Arithmetics operation\n",
    "num1 = 55\n",
    "num2 = 45\n",
    "\n",
    "sum = num1+num2\n",
    "sub_result = num1 - num2\n",
    "\n",
    "print(sum)\n",
    "print(\"sub result:\", sub_result)"
   ]
  },
  {
   "cell_type": "code",
   "execution_count": 4,
   "metadata": {},
   "outputs": [
    {
     "name": "stdout",
     "output_type": "stream",
     "text": [
      "Your are authorized\n"
     ]
    }
   ],
   "source": [
    "# Comparison Operators\n",
    "age = 18\n",
    "\n",
    "if age>=18:\n",
    "    print(\"Your are authorized\")\n",
    "else:\n",
    "    print(\"Your are not authorized!\")"
   ]
  },
  {
   "cell_type": "code",
   "execution_count": null,
   "metadata": {},
   "outputs": [],
   "source": []
  }
 ],
 "metadata": {
  "kernelspec": {
   "display_name": "base",
   "language": "python",
   "name": "python3"
  },
  "language_info": {
   "codemirror_mode": {
    "name": "ipython",
    "version": 3
   },
   "file_extension": ".py",
   "mimetype": "text/x-python",
   "name": "python",
   "nbconvert_exporter": "python",
   "pygments_lexer": "ipython3",
   "version": "3.12.7"
  }
 },
 "nbformat": 4,
 "nbformat_minor": 2
}
